{
 "cells": [
  {
   "cell_type": "code",
   "execution_count": null,
   "id": "739901c3-a977-4fba-a45d-8da656cb4962",
   "metadata": {},
   "outputs": [],
   "source": [
    "#Q1\n",
    "\n",
    "list.append(element)\n"
   ]
  },
  {
   "cell_type": "code",
   "execution_count": null,
   "id": "ba3263f2-2561-4918-bf2e-efdd6218d210",
   "metadata": {},
   "outputs": [],
   "source": [
    "#Q2\n",
    "The the function pop() removes the element from the specified index or the last element from the list if index is not given.\n",
    "\n",
    "The function remove() is used to remove the given element from the list.\n"
   ]
  },
  {
   "cell_type": "code",
   "execution_count": 1,
   "id": "5c71bfa1-0cc7-4612-9256-873ec7d48c0f",
   "metadata": {},
   "outputs": [
    {
     "name": "stdout",
     "output_type": "stream",
     "text": [
      "[120, 100, 70, 60, 30, 10, 9, 2]\n"
     ]
    }
   ],
   "source": [
    "#Q3\n",
    "l=[2,30,10,9,70,60,120,100]\n",
    "l.sort(reverse=True)\n",
    "print(l)"
   ]
  },
  {
   "cell_type": "code",
   "execution_count": null,
   "id": "9cbae91c-745a-4250-b0eb-beb5c553d820",
   "metadata": {},
   "outputs": [],
   "source": [
    "#"
   ]
  }
 ],
 "metadata": {
  "kernelspec": {
   "display_name": "Python 3 (ipykernel)",
   "language": "python",
   "name": "python3"
  },
  "language_info": {
   "codemirror_mode": {
    "name": "ipython",
    "version": 3
   },
   "file_extension": ".py",
   "mimetype": "text/x-python",
   "name": "python",
   "nbconvert_exporter": "python",
   "pygments_lexer": "ipython3",
   "version": "3.10.8"
  }
 },
 "nbformat": 4,
 "nbformat_minor": 5
}
