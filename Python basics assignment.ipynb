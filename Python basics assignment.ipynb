{
 "cells": [
  {
   "cell_type": "code",
   "execution_count": null,
   "id": "34a32e97-8c82-4d91-a3d9-f76f5ffd1700",
   "metadata": {},
   "outputs": [],
   "source": [
    "Q1\n",
    "\n",
    "1.No special characters are allowed except '_'.\n",
    "2.Variable names are case sensitive\n",
    "3.Name of variables cannot start with numbers\n",
    "4.No blank spaces are allowed\n",
    "5.Use of keywords in variable names is not allowed\n"
   ]
  },
  {
   "cell_type": "code",
   "execution_count": null,
   "id": "6447ea0f-dfe8-46d8-b72d-404ff6e0dda8",
   "metadata": {},
   "outputs": [],
   "source": [
    "Q2\n",
    "When we declare a restricted keyword as a variable name it will give an error\n"
   ]
  },
  {
   "cell_type": "code",
   "execution_count": null,
   "id": "0aace526-0926-4156-84df-fc829d4488c8",
   "metadata": {},
   "outputs": [],
   "source": [
    "Q3\n",
    "No we cannot declare a string as a variable name.\n"
   ]
  },
  {
   "cell_type": "code",
   "execution_count": null,
   "id": "53bb1e8c-365c-44ee-86a2-b0c648ee70bf",
   "metadata": {},
   "outputs": [],
   "source": [
    "Q4\n",
    "yes we can declare a variable name as '_'.\n",
    "Example: \n",
    "_=100\n",
    "print(_)\n"
   ]
  },
  {
   "cell_type": "code",
   "execution_count": null,
   "id": "e2a3e096-399e-481e-92be-dbadbabee2de",
   "metadata": {},
   "outputs": [],
   "source": [
    "Q5\n",
    "The variables are dynamic in nature in python programming language because we dont need to declare the type of the \n",
    "variable before assigning the value to the variable.\n",
    "Eg.\n",
    "a=500\n",
    "b=\"Piyush\"\n",
    "pi=3.14\n",
    "t=True\n"
   ]
  }
 ],
 "metadata": {
  "kernelspec": {
   "display_name": "Python 3 (ipykernel)",
   "language": "python",
   "name": "python3"
  },
  "language_info": {
   "codemirror_mode": {
    "name": "ipython",
    "version": 3
   },
   "file_extension": ".py",
   "mimetype": "text/x-python",
   "name": "python",
   "nbconvert_exporter": "python",
   "pygments_lexer": "ipython3",
   "version": "3.10.8"
  }
 },
 "nbformat": 4,
 "nbformat_minor": 5
}
