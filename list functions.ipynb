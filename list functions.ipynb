{
 "cells": [
  {
   "cell_type": "code",
   "execution_count": null,
   "id": "ec616dd3-4d4f-444a-b39d-b0579bb51c09",
   "metadata": {},
   "outputs": [],
   "source": [
    "#Q1\n",
    "l=list()\n",
    "#or \n",
    "l1=[]\n",
    "\n"
   ]
  },
  {
   "cell_type": "code",
   "execution_count": 4,
   "id": "a357a4b9-a60f-47a8-81cf-3b28fc9e3ad5",
   "metadata": {},
   "outputs": [
    {
     "name": "stdout",
     "output_type": "stream",
     "text": [
      "[1, 2, 4, 50, 'PWskills']\n"
     ]
    }
   ],
   "source": [
    "#Q2\n",
    "l2=[1,2,4,50]\n",
    "l2.append(\"PWskills\")\n",
    "print(l2)\n"
   ]
  },
  {
   "cell_type": "code",
   "execution_count": 3,
   "id": "1215ca7a-c669-4636-a346-a8bd22777bc5",
   "metadata": {},
   "outputs": [
    {
     "name": "stdout",
     "output_type": "stream",
     "text": [
      "PWskills\n"
     ]
    }
   ],
   "source": [
    "#Q3\n",
    "print(l2[-1])"
   ]
  },
  {
   "cell_type": "code",
   "execution_count": 5,
   "id": "c0623d60-b22d-4d0c-b906-8b4e4c5e9ece",
   "metadata": {},
   "outputs": [
    {
     "name": "stdout",
     "output_type": "stream",
     "text": [
      "The reversed list is : ['PWskills', 50, 4, 2, 1]\n"
     ]
    }
   ],
   "source": [
    "#Q4\n",
    "l2=l2[::-1]\n",
    "print(\"The reversed list is :\",l2)"
   ]
  },
  {
   "cell_type": "code",
   "execution_count": 7,
   "id": "5730463c-0e84-4725-9044-b8336640b9f5",
   "metadata": {},
   "outputs": [
    {
     "name": "stdout",
     "output_type": "stream",
     "text": [
      "the sorted list: [1, 2, 4, 50]\n"
     ]
    }
   ],
   "source": [
    "#Q5\n",
    "l2.remove('PWskills')\n",
    "l2.sort()\n",
    "print(\"the sorted list:\",l2)"
   ]
  },
  {
   "cell_type": "code",
   "execution_count": 8,
   "id": "dafce4c2-75b7-40a1-a7c2-b26e4a779f22",
   "metadata": {},
   "outputs": [
    {
     "name": "stdout",
     "output_type": "stream",
     "text": [
      "Police Story\n"
     ]
    }
   ],
   "source": [
    "#Q6\n",
    "movie=[\"War\",\"Police Story\",\"Doraemon\"]\n",
    "print(movie[1])"
   ]
  },
  {
   "cell_type": "code",
   "execution_count": 9,
   "id": "f9ab0d01-6fef-4aea-bdbd-ddb97450c3a6",
   "metadata": {},
   "outputs": [
    {
     "name": "stdout",
     "output_type": "stream",
     "text": [
      "['cat', 'dog', 'tiger', 'horse', 'Lion']\n"
     ]
    }
   ],
   "source": [
    "#Q7\n",
    "animals=[\"cat\",\"dog\",\"tiger\",\"horse\"]\n",
    "animals.append(\"Lion\")\n",
    "print(animals)"
   ]
  },
  {
   "cell_type": "code",
   "execution_count": 10,
   "id": "f7fb9222-6f4e-467f-9f91-735d0ace0168",
   "metadata": {},
   "outputs": [
    {
     "name": "stdout",
     "output_type": "stream",
     "text": [
      "3\n",
      "Jabalpur\n"
     ]
    }
   ],
   "source": [
    "#Q8\n",
    "city=[\"Hyderabad\",\"Bangalore\",\"Delhi\",\"Jabalpur\"]\n",
    "print(city.index(\"Jabalpur\"))\n",
    "print(city[3])"
   ]
  },
  {
   "cell_type": "code",
   "execution_count": null,
   "id": "63fadab7-0106-4dec-9094-29b4f04f1214",
   "metadata": {},
   "outputs": [],
   "source": []
  }
 ],
 "metadata": {
  "kernelspec": {
   "display_name": "Python 3 (ipykernel)",
   "language": "python",
   "name": "python3"
  },
  "language_info": {
   "codemirror_mode": {
    "name": "ipython",
    "version": 3
   },
   "file_extension": ".py",
   "mimetype": "text/x-python",
   "name": "python",
   "nbconvert_exporter": "python",
   "pygments_lexer": "ipython3",
   "version": "3.10.8"
  }
 },
 "nbformat": 4,
 "nbformat_minor": 5
}
