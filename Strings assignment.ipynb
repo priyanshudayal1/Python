{
 "cells": [
  {
   "cell_type": "code",
   "execution_count": null,
   "id": "c4c04c48-8890-40cc-a47c-f75ae8a41aad",
   "metadata": {},
   "outputs": [],
   "source": [
    "Q1\n",
    "We can store the string in single quotes by enclosing the characters inside the two single quotes.\n",
    "EG.\n",
    "a='Hello world'\n"
   ]
  },
  {
   "cell_type": "code",
   "execution_count": 2,
   "id": "0e79211a-8ce1-46e4-8095-5a91ba2fb901",
   "metadata": {},
   "outputs": [
    {
     "data": {
      "text/plain": [
       "str"
      ]
     },
     "execution_count": 2,
     "metadata": {},
     "output_type": "execute_result"
    }
   ],
   "source": [
    "#Q2\n",
    "x='a'\n",
    "#x is a string type of variable\n",
    "type(x)\n"
   ]
  },
  {
   "cell_type": "code",
   "execution_count": 4,
   "id": "8fd9a62b-2804-4872-83cc-4e0c82cd93dd",
   "metadata": {},
   "outputs": [
    {
     "data": {
      "text/plain": [
       "4"
      ]
     },
     "execution_count": 4,
     "metadata": {},
     "output_type": "execute_result"
    }
   ],
   "source": [
    "#Q3\n",
    "a=\"Welcome to Python foundation course\"\n",
    "a.find('o') #1"
   ]
  },
  {
   "cell_type": "code",
   "execution_count": 5,
   "id": "8d8e4bf7-dc96-4031-a4b7-a2c2ac0207b4",
   "metadata": {},
   "outputs": [
    {
     "data": {
      "text/plain": [
       "3"
      ]
     },
     "execution_count": 5,
     "metadata": {},
     "output_type": "execute_result"
    }
   ],
   "source": [
    "a.count('e') #2"
   ]
  },
  {
   "cell_type": "code",
   "execution_count": 6,
   "id": "bde72f33-f548-4259-b04f-495061c33a23",
   "metadata": {},
   "outputs": [
    {
     "data": {
      "text/plain": [
       "35"
      ]
     },
     "execution_count": 6,
     "metadata": {},
     "output_type": "execute_result"
    }
   ],
   "source": [
    "len(a) #3"
   ]
  },
  {
   "cell_type": "code",
   "execution_count": 7,
   "id": "0a1a322f-2526-4996-8a5a-cdc1dd36176a",
   "metadata": {},
   "outputs": [
    {
     "name": "stdout",
     "output_type": "stream",
     "text": [
      "Hello and Welcome to Python foundation course\n"
     ]
    }
   ],
   "source": [
    "print(\"Hello and \"+a) #4(concatenation)"
   ]
  },
  {
   "cell_type": "code",
   "execution_count": 9,
   "id": "fdc83635-6abe-4f35-ab1e-234ca673e8e2",
   "metadata": {},
   "outputs": [
    {
     "name": "stdout",
     "output_type": "stream",
     "text": [
      "The number of lower case words is: 4\n"
     ]
    }
   ],
   "source": [
    "#Q4\n",
    "word=\"PanaJi12256\"\n",
    "#(a)\n",
    "c=0\n",
    "for i in word:\n",
    "    if i.islower():\n",
    "        c=c+1\n",
    "print(\"The number of lower case words is:\",c)"
   ]
  },
  {
   "cell_type": "code",
   "execution_count": 10,
   "id": "b56ec989-c1ad-4344-9909-07c4cc9f2733",
   "metadata": {},
   "outputs": [
    {
     "name": "stdout",
     "output_type": "stream",
     "text": [
      "The number of upper case words is: 2\n"
     ]
    }
   ],
   "source": [
    "#(b)\n",
    "c=0\n",
    "for i in word:\n",
    "    if i.isupper():\n",
    "        c=c+1\n",
    "print(\"The number of upper case words is:\",c)"
   ]
  },
  {
   "cell_type": "code",
   "execution_count": null,
   "id": "382d9afe-24f7-4529-9b69-d98dbc57b311",
   "metadata": {},
   "outputs": [],
   "source": [
    "#(c)\n",
    "c=0\n",
    "for i in word:\n",
    "    if i.isnum():\n",
    "        c=c+1\n",
    "print(\"The number of numerical is:\",c)"
   ]
  }
 ],
 "metadata": {
  "kernelspec": {
   "display_name": "Python 3 (ipykernel)",
   "language": "python",
   "name": "python3"
  },
  "language_info": {
   "codemirror_mode": {
    "name": "ipython",
    "version": 3
   },
   "file_extension": ".py",
   "mimetype": "text/x-python",
   "name": "python",
   "nbconvert_exporter": "python",
   "pygments_lexer": "ipython3",
   "version": "3.10.8"
  }
 },
 "nbformat": 4,
 "nbformat_minor": 5
}
